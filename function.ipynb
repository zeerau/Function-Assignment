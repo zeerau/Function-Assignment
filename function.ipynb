{
 "cells": [
  {
   "cell_type": "code",
   "execution_count": 1,
   "metadata": {},
   "outputs": [
    {
     "name": "stdout",
     "output_type": "stream",
     "text": [
      "Hello!\n"
     ]
    }
   ],
   "source": [
    "def greet_user():\n",
    "  \"\"\"Display a simple greeting.\"\"\"\n",
    "print(\"Hello!\")\n",
    "greet_user()"
   ]
  },
  {
   "cell_type": "code",
   "execution_count": 2,
   "metadata": {},
   "outputs": [
    {
     "name": "stdout",
     "output_type": "stream",
     "text": [
      "i am learning Python functions\n"
     ]
    }
   ],
   "source": [
    "def message():\n",
    "    print('i am learning Python functions')\n",
    "message()"
   ]
  },
  {
   "cell_type": "code",
   "execution_count": 3,
   "metadata": {},
   "outputs": [
    {
     "name": "stdout",
     "output_type": "stream",
     "text": [
      "One of my favorite book is Qarfen kafa\n"
     ]
    }
   ],
   "source": [
    "def favorite_book(title):\n",
    "    print(f\"One of my favorite book is {title}\")\n",
    "favorite_book('Qarfen kafa')"
   ]
  },
  {
   "cell_type": "code",
   "execution_count": 8,
   "metadata": {},
   "outputs": [
    {
     "name": "stdout",
     "output_type": "stream",
     "text": [
      "the large shirt has I CAN DO IT on it\n",
      "the medium shirt has I AM UNSTOPPABLE on it\n"
     ]
    }
   ],
   "source": [
    "def make_shirt(message,size):\n",
    "    \n",
    "    print(f'the {size} shirt has {message} on it')\n",
    "make_shirt('I CAN DO IT','large')\n",
    "make_shirt(message='i am unstoppable'.upper(),size='medium')"
   ]
  },
  {
   "cell_type": "code",
   "execution_count": 10,
   "metadata": {},
   "outputs": [
    {
     "name": "stdout",
     "output_type": "stream",
     "text": [
      "the large shirt has I LOVE PYTHON on it\n",
      "the medium shirt has I LOVE PYTHON on it\n",
      "the large shirt has i like css too on it\n"
     ]
    }
   ],
   "source": [
    "def make_shirt(message = 'I LOVE PYTHON',size = 'large'):\n",
    "    \n",
    "    print(f'the {size} shirt has {message} on it')\n",
    "make_shirt()\n",
    "make_shirt(size = 'medium')\n",
    "make_shirt(message='i like css too')"
   ]
  },
  {
   "cell_type": "code",
   "execution_count": 11,
   "metadata": {},
   "outputs": [
    {
     "name": "stdout",
     "output_type": "stream",
     "text": [
      "Kebbi is in Nigeria\n",
      "Kano is in Nigeria\n",
      "makkah is in Saudi Arabia\n"
     ]
    }
   ],
   "source": [
    "def describe_city(city,country = 'Nigeria'):\n",
    "    print(f'{city} is in {country}')\n",
    "describe_city('Kebbi')\n",
    "describe_city('Kano')\n",
    "describe_city('makkah','Saudi Arabia')"
   ]
  },
  {
   "cell_type": "code",
   "execution_count": 12,
   "metadata": {},
   "outputs": [
    {
     "name": "stdout",
     "output_type": "stream",
     "text": [
      "Lagos, Nigeria\n"
     ]
    }
   ],
   "source": [
    "def city_country(city,country):\n",
    "    formatted = f'{city}, {country}'\n",
    "    return formatted\n",
    "printed = city_country('Lagos','Nigeria')\n",
    "print(printed)"
   ]
  },
  {
   "cell_type": "code",
   "execution_count": 14,
   "metadata": {},
   "outputs": [
    {
     "name": "stdout",
     "output_type": "stream",
     "text": [
      "{'name': 'Ado Gwanja', 'title': 'Asha ruwa', 'no_songs': 3}\n",
      "{'name': 'Auta waziri', 'title': 'Kewa'}\n"
     ]
    }
   ],
   "source": [
    "def make_album(artist,album_title,no_songs = None):\n",
    "    dicts = {'name': artist,'title': album_title,}\n",
    "    \n",
    "    if no_songs:\n",
    "        dicts['no_songs'] = no_songs\n",
    "\n",
    "    return dicts\n",
    "print(make_album('Ado Gwanja','Asha ruwa',3))\n",
    "print(make_album('Auta waziri','Kewa'))"
   ]
  },
  {
   "cell_type": "code",
   "execution_count": 19,
   "metadata": {},
   "outputs": [
    {
     "name": "stdout",
     "output_type": "stream",
     "text": [
      "Printing model: dodecahedron\n",
      "Printing model: robot pendant\n",
      "Printing model: phone case\n",
      "\n",
      "The following models have been printed:\n",
      "dodecahedron\n",
      "robot pendant\n",
      "phone case\n"
     ]
    }
   ],
   "source": [
    "def print_models(unprinted_designs, completed_models):\n",
    "    \"\"\"Simulate printing each design, until none are left.144 Chapter 8 Move each design to completed_models after printing.\n",
    "\"\"\"\n",
    "unprinted_designs = ['phone case', 'robot pendant', 'dodecahedron']\n",
    "completed_models = []\n",
    "while unprinted_designs:\n",
    "    current_design = unprinted_designs.pop()\n",
    "    print(f\"Printing model: {current_design}\")\n",
    "    completed_models.append(current_design)\n",
    "def show_completed_models(completed_models):\n",
    "    \"\"\"Show all the models that were printed.\"\"\"\n",
    "    print(\"\\nThe following models have been printed:\")\n",
    "    for completed_model in completed_models:\n",
    "        print(completed_model)\n",
    "\n",
    "print_models(unprinted_designs, completed_models)\n",
    "show_completed_models(completed_models)"
   ]
  },
  {
   "cell_type": "code",
   "execution_count": 20,
   "metadata": {},
   "outputs": [
    {
     "name": "stdout",
     "output_type": "stream",
     "text": [
      "Those are the ingredients you want on your sandwich:\n",
      "chicken\n",
      "Those are the ingredients you want on your sandwich:\n",
      "tuna\n",
      "mayo\n",
      "Those are the ingredients you want on your sandwich:\n",
      "ham\n",
      "tomato\n",
      "lettuce\n"
     ]
    }
   ],
   "source": [
    "def show_ingredients(*ingredients):\n",
    "    print(\"Those are the ingredients you want on your sandwich:\")\n",
    "    for ing in ingredients:\n",
    "        print(ing)\n",
    "show_ingredients('chicken')\n",
    "show_ingredients('tuna','mayo')\n",
    "show_ingredients('ham','tomato','lettuce')"
   ]
  },
  {
   "cell_type": "code",
   "execution_count": 21,
   "metadata": {},
   "outputs": [
    {
     "name": "stdout",
     "output_type": "stream",
     "text": [
      "{'first_name': 'john', 'last_name': 'doe', 'age': 33, 'occupation': 'programmer'}\n"
     ]
    }
   ],
   "source": [
    "def build_profile(first, last, **user_info):\n",
    "    profile = {} \n",
    "    profile['first_name'] = first\n",
    "    profile['last_name'] = last\n",
    "    for key, value in user_info.items():\n",
    "        profile[key] = value\n",
    "    return profile\n",
    "\n",
    "user_profile = build_profile('john','doe',age=33,occupation='programmer')\n",
    "print(user_profile)"
   ]
  },
  {
   "cell_type": "code",
   "execution_count": 22,
   "metadata": {},
   "outputs": [
    {
     "name": "stdout",
     "output_type": "stream",
     "text": [
      "{'manufacturer': 'subaru', 'model_name': 'outback', 'color': 'blue', 'tow_package': True}\n"
     ]
    }
   ],
   "source": [
    "def build_car(manufacturer, model_name, **kwargs):\n",
    "    car = {}\n",
    "    car['manufacturer'] = manufacturer\n",
    "    car['model_name'] = model_name\n",
    "    for k,v in kwargs.items():\n",
    "        car[k] = v\n",
    "    return car\n",
    "print(build_car('subaru','outback',color='blue', tow_package=True))"
   ]
  },
  {
   "cell_type": "code",
   "execution_count": null,
   "metadata": {},
   "outputs": [],
   "source": []
  }
 ],
 "metadata": {
  "kernelspec": {
   "display_name": "arewaDS_folder",
   "language": "python",
   "name": "python3"
  },
  "language_info": {
   "codemirror_mode": {
    "name": "ipython",
    "version": 3
   },
   "file_extension": ".py",
   "mimetype": "text/x-python",
   "name": "python",
   "nbconvert_exporter": "python",
   "pygments_lexer": "ipython3",
   "version": "3.10.13"
  }
 },
 "nbformat": 4,
 "nbformat_minor": 2
}
